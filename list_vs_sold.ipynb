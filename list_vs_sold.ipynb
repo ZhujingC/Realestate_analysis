{
 "cells": [
  {
   "cell_type": "code",
   "execution_count": null,
   "metadata": {},
   "outputs": [],
   "source": [
    "In three different years, compare whole number of list and sold (use sum up value, bar chart)"
   ]
  },
  {
   "cell_type": "code",
   "execution_count": 1,
   "metadata": {},
   "outputs": [],
   "source": [
    "# Dependencies\n",
    "import matplotlib.pyplot as plt\n",
    "import numpy as np\n",
    "import pandas as pd\n",
    "%matplotlib inline\n",
    "import csv\n",
    "import datetime as dt"
   ]
  },
  {
   "cell_type": "markdown",
   "metadata": {},
   "source": [
    "### Using MatplotLib to Chart a DataFrame"
   ]
  },
  {
   "cell_type": "code",
   "execution_count": 6,
   "metadata": {},
   "outputs": [
    {
     "data": {
      "text/html": [
       "<div>\n",
       "<style scoped>\n",
       "    .dataframe tbody tr th:only-of-type {\n",
       "        vertical-align: middle;\n",
       "    }\n",
       "\n",
       "    .dataframe tbody tr th {\n",
       "        vertical-align: top;\n",
       "    }\n",
       "\n",
       "    .dataframe thead th {\n",
       "        text-align: right;\n",
       "    }\n",
       "</style>\n",
       "<table border=\"1\" class=\"dataframe\">\n",
       "  <thead>\n",
       "    <tr style=\"text-align: right;\">\n",
       "      <th></th>\n",
       "      <th>Postcode</th>\n",
       "      <th>Suburb</th>\n",
       "      <th>ID_Domain</th>\n",
       "      <th>medianSoldPrice</th>\n",
       "      <th>numberSold</th>\n",
       "      <th>highestSoldPrice</th>\n",
       "      <th>lowestSoldPrice</th>\n",
       "      <th>5thPercentileSoldPrice</th>\n",
       "      <th>25thPercentileSoldPrice</th>\n",
       "      <th>75thPercentileSoldPrice</th>\n",
       "      <th>...</th>\n",
       "      <th>medianSaleListingPrice</th>\n",
       "      <th>numberSaleListing</th>\n",
       "      <th>highestSaleListingPrice</th>\n",
       "      <th>lowestSaleListingPrice</th>\n",
       "      <th>auctionNumberAuctioned</th>\n",
       "      <th>auctionNumberSold</th>\n",
       "      <th>medianRentListingPrice</th>\n",
       "      <th>numberRentListing</th>\n",
       "      <th>highestRentListingPrice</th>\n",
       "      <th>lowestRentListingPrice</th>\n",
       "    </tr>\n",
       "  </thead>\n",
       "  <tbody>\n",
       "    <tr>\n",
       "      <th>0</th>\n",
       "      <td>3067</td>\n",
       "      <td>Abbotsford</td>\n",
       "      <td>627</td>\n",
       "      <td>990000.0</td>\n",
       "      <td>57.0</td>\n",
       "      <td>2425000.0</td>\n",
       "      <td>370000.0</td>\n",
       "      <td>661000.0</td>\n",
       "      <td>808000.0</td>\n",
       "      <td>1445000.0</td>\n",
       "      <td>...</td>\n",
       "      <td>1150000.0</td>\n",
       "      <td>71.0</td>\n",
       "      <td>2573000.0</td>\n",
       "      <td>115000.0</td>\n",
       "      <td>50.0</td>\n",
       "      <td>26.0</td>\n",
       "      <td>645.0</td>\n",
       "      <td>150.0</td>\n",
       "      <td>1250.0</td>\n",
       "      <td>400.0</td>\n",
       "    </tr>\n",
       "    <tr>\n",
       "      <th>1</th>\n",
       "      <td>3040</td>\n",
       "      <td>Aberfeldie</td>\n",
       "      <td>647</td>\n",
       "      <td>1368000.0</td>\n",
       "      <td>244.0</td>\n",
       "      <td>8000000.0</td>\n",
       "      <td>297000.0</td>\n",
       "      <td>480000.0</td>\n",
       "      <td>876000.0</td>\n",
       "      <td>1820000.0</td>\n",
       "      <td>...</td>\n",
       "      <td>1300000.0</td>\n",
       "      <td>285.0</td>\n",
       "      <td>8000000.0</td>\n",
       "      <td>280000.0</td>\n",
       "      <td>182.0</td>\n",
       "      <td>94.0</td>\n",
       "      <td>525.0</td>\n",
       "      <td>373.0</td>\n",
       "      <td>1400.0</td>\n",
       "      <td>250.0</td>\n",
       "    </tr>\n",
       "    <tr>\n",
       "      <th>2</th>\n",
       "      <td>3042</td>\n",
       "      <td>Airport West</td>\n",
       "      <td>757</td>\n",
       "      <td>953000.0</td>\n",
       "      <td>74.0</td>\n",
       "      <td>1500000.0</td>\n",
       "      <td>480000.0</td>\n",
       "      <td>610000.0</td>\n",
       "      <td>800000.0</td>\n",
       "      <td>1100000.0</td>\n",
       "      <td>...</td>\n",
       "      <td>953000.0</td>\n",
       "      <td>98.0</td>\n",
       "      <td>1470000.0</td>\n",
       "      <td>500000.0</td>\n",
       "      <td>62.0</td>\n",
       "      <td>24.0</td>\n",
       "      <td>475.0</td>\n",
       "      <td>125.0</td>\n",
       "      <td>1350.0</td>\n",
       "      <td>260.0</td>\n",
       "    </tr>\n",
       "    <tr>\n",
       "      <th>3</th>\n",
       "      <td>3021</td>\n",
       "      <td>Albanvale</td>\n",
       "      <td>787</td>\n",
       "      <td>596000.0</td>\n",
       "      <td>348.0</td>\n",
       "      <td>1400000.0</td>\n",
       "      <td>300000.0</td>\n",
       "      <td>410000.0</td>\n",
       "      <td>510000.0</td>\n",
       "      <td>650000.0</td>\n",
       "      <td>...</td>\n",
       "      <td>599000.0</td>\n",
       "      <td>532.0</td>\n",
       "      <td>2500000.0</td>\n",
       "      <td>60000.0</td>\n",
       "      <td>132.0</td>\n",
       "      <td>41.0</td>\n",
       "      <td>360.0</td>\n",
       "      <td>521.0</td>\n",
       "      <td>1647.0</td>\n",
       "      <td>190.0</td>\n",
       "    </tr>\n",
       "    <tr>\n",
       "      <th>4</th>\n",
       "      <td>3206</td>\n",
       "      <td>Albert Park</td>\n",
       "      <td>797</td>\n",
       "      <td>2575000.0</td>\n",
       "      <td>55.0</td>\n",
       "      <td>8600000.0</td>\n",
       "      <td>735000.0</td>\n",
       "      <td>1353000.0</td>\n",
       "      <td>1990000.0</td>\n",
       "      <td>3650000.0</td>\n",
       "      <td>...</td>\n",
       "      <td>2425000.0</td>\n",
       "      <td>52.0</td>\n",
       "      <td>13000000.0</td>\n",
       "      <td>315000.0</td>\n",
       "      <td>37.0</td>\n",
       "      <td>17.0</td>\n",
       "      <td>840.0</td>\n",
       "      <td>95.0</td>\n",
       "      <td>2000.0</td>\n",
       "      <td>350.0</td>\n",
       "    </tr>\n",
       "  </tbody>\n",
       "</table>\n",
       "<p>5 rows × 21 columns</p>\n",
       "</div>"
      ],
      "text/plain": [
       "   Postcode        Suburb  ID_Domain  medianSoldPrice  numberSold  \\\n",
       "0      3067    Abbotsford        627         990000.0        57.0   \n",
       "1      3040    Aberfeldie        647        1368000.0       244.0   \n",
       "2      3042  Airport West        757         953000.0        74.0   \n",
       "3      3021     Albanvale        787         596000.0       348.0   \n",
       "4      3206   Albert Park        797        2575000.0        55.0   \n",
       "\n",
       "   highestSoldPrice  lowestSoldPrice  5thPercentileSoldPrice  \\\n",
       "0         2425000.0         370000.0                661000.0   \n",
       "1         8000000.0         297000.0                480000.0   \n",
       "2         1500000.0         480000.0                610000.0   \n",
       "3         1400000.0         300000.0                410000.0   \n",
       "4         8600000.0         735000.0               1353000.0   \n",
       "\n",
       "   25thPercentileSoldPrice  75thPercentileSoldPrice  ...  \\\n",
       "0                 808000.0                1445000.0  ...   \n",
       "1                 876000.0                1820000.0  ...   \n",
       "2                 800000.0                1100000.0  ...   \n",
       "3                 510000.0                 650000.0  ...   \n",
       "4                1990000.0                3650000.0  ...   \n",
       "\n",
       "   medianSaleListingPrice  numberSaleListing  highestSaleListingPrice  \\\n",
       "0               1150000.0               71.0                2573000.0   \n",
       "1               1300000.0              285.0                8000000.0   \n",
       "2                953000.0               98.0                1470000.0   \n",
       "3                599000.0              532.0                2500000.0   \n",
       "4               2425000.0               52.0               13000000.0   \n",
       "\n",
       "   lowestSaleListingPrice  auctionNumberAuctioned  auctionNumberSold  \\\n",
       "0                115000.0                    50.0               26.0   \n",
       "1                280000.0                   182.0               94.0   \n",
       "2                500000.0                    62.0               24.0   \n",
       "3                 60000.0                   132.0               41.0   \n",
       "4                315000.0                    37.0               17.0   \n",
       "\n",
       "   medianRentListingPrice  numberRentListing  highestRentListingPrice  \\\n",
       "0                   645.0              150.0                   1250.0   \n",
       "1                   525.0              373.0                   1400.0   \n",
       "2                   475.0              125.0                   1350.0   \n",
       "3                   360.0              521.0                   1647.0   \n",
       "4                   840.0               95.0                   2000.0   \n",
       "\n",
       "   lowestRentListingPrice  \n",
       "0                   400.0  \n",
       "1                   250.0  \n",
       "2                   260.0  \n",
       "3                   190.0  \n",
       "4                   350.0  \n",
       "\n",
       "[5 rows x 21 columns]"
      ]
     },
     "execution_count": 6,
     "metadata": {},
     "output_type": "execute_result"
    }
   ],
   "source": [
    "# Load in csv\n",
    "file = \"yearly_data_clean_2019.csv\"\n",
    "file2 = \"yearly_data_clean_2020.csv\"\n",
    "file3 = \"yearly_data_clean_2021.csv\"\n",
    "yearly_df = pd.read_csv(file)\n",
    "yearly2_df = pd.read_csv(file2)\n",
    "yearly3_df = pd.read_csv(file3)\n",
    "yearly_df.head()"
   ]
  },
  {
   "cell_type": "code",
   "execution_count": 8,
   "metadata": {},
   "outputs": [
    {
     "data": {
      "text/html": [
       "<div>\n",
       "<style scoped>\n",
       "    .dataframe tbody tr th:only-of-type {\n",
       "        vertical-align: middle;\n",
       "    }\n",
       "\n",
       "    .dataframe tbody tr th {\n",
       "        vertical-align: top;\n",
       "    }\n",
       "\n",
       "    .dataframe thead th {\n",
       "        text-align: right;\n",
       "    }\n",
       "</style>\n",
       "<table border=\"1\" class=\"dataframe\">\n",
       "  <thead>\n",
       "    <tr style=\"text-align: right;\">\n",
       "      <th></th>\n",
       "      <th>Postcode</th>\n",
       "      <th>numberSaleListing</th>\n",
       "      <th>numberSold</th>\n",
       "    </tr>\n",
       "  </thead>\n",
       "  <tbody>\n",
       "    <tr>\n",
       "      <th>0</th>\n",
       "      <td>3067</td>\n",
       "      <td>71.0</td>\n",
       "      <td>57.0</td>\n",
       "    </tr>\n",
       "    <tr>\n",
       "      <th>1</th>\n",
       "      <td>3040</td>\n",
       "      <td>285.0</td>\n",
       "      <td>244.0</td>\n",
       "    </tr>\n",
       "    <tr>\n",
       "      <th>2</th>\n",
       "      <td>3042</td>\n",
       "      <td>98.0</td>\n",
       "      <td>74.0</td>\n",
       "    </tr>\n",
       "    <tr>\n",
       "      <th>3</th>\n",
       "      <td>3021</td>\n",
       "      <td>532.0</td>\n",
       "      <td>348.0</td>\n",
       "    </tr>\n",
       "    <tr>\n",
       "      <th>4</th>\n",
       "      <td>3206</td>\n",
       "      <td>52.0</td>\n",
       "      <td>55.0</td>\n",
       "    </tr>\n",
       "  </tbody>\n",
       "</table>\n",
       "</div>"
      ],
      "text/plain": [
       "   Postcode  numberSaleListing  numberSold\n",
       "0      3067               71.0        57.0\n",
       "1      3040              285.0       244.0\n",
       "2      3042               98.0        74.0\n",
       "3      3021              532.0       348.0\n",
       "4      3206               52.0        55.0"
      ]
     },
     "execution_count": 8,
     "metadata": {},
     "output_type": "execute_result"
    }
   ],
   "source": [
    "# Reference multiple columns within a DataFrame\n",
    "yearly_df[[\"Postcode\", \"numberSaleListing\",\"numberSold\"]].head()"
   ]
  },
  {
   "cell_type": "code",
   "execution_count": 9,
   "metadata": {},
   "outputs": [
    {
     "data": {
      "text/html": [
       "<div>\n",
       "<style scoped>\n",
       "    .dataframe tbody tr th:only-of-type {\n",
       "        vertical-align: middle;\n",
       "    }\n",
       "\n",
       "    .dataframe tbody tr th {\n",
       "        vertical-align: top;\n",
       "    }\n",
       "\n",
       "    .dataframe thead th {\n",
       "        text-align: right;\n",
       "    }\n",
       "</style>\n",
       "<table border=\"1\" class=\"dataframe\">\n",
       "  <thead>\n",
       "    <tr style=\"text-align: right;\">\n",
       "      <th></th>\n",
       "      <th>Postcode</th>\n",
       "      <th>numberSaleListing</th>\n",
       "      <th>numberSold</th>\n",
       "    </tr>\n",
       "  </thead>\n",
       "  <tbody>\n",
       "    <tr>\n",
       "      <th>0</th>\n",
       "      <td>3067</td>\n",
       "      <td>79.0</td>\n",
       "      <td>67.0</td>\n",
       "    </tr>\n",
       "    <tr>\n",
       "      <th>1</th>\n",
       "      <td>3040</td>\n",
       "      <td>255.0</td>\n",
       "      <td>193.0</td>\n",
       "    </tr>\n",
       "    <tr>\n",
       "      <th>2</th>\n",
       "      <td>3042</td>\n",
       "      <td>113.0</td>\n",
       "      <td>86.0</td>\n",
       "    </tr>\n",
       "    <tr>\n",
       "      <th>3</th>\n",
       "      <td>3021</td>\n",
       "      <td>527.0</td>\n",
       "      <td>327.0</td>\n",
       "    </tr>\n",
       "    <tr>\n",
       "      <th>4</th>\n",
       "      <td>3206</td>\n",
       "      <td>47.0</td>\n",
       "      <td>42.0</td>\n",
       "    </tr>\n",
       "  </tbody>\n",
       "</table>\n",
       "</div>"
      ],
      "text/plain": [
       "   Postcode  numberSaleListing  numberSold\n",
       "0      3067               79.0        67.0\n",
       "1      3040              255.0       193.0\n",
       "2      3042              113.0        86.0\n",
       "3      3021              527.0       327.0\n",
       "4      3206               47.0        42.0"
      ]
     },
     "execution_count": 9,
     "metadata": {},
     "output_type": "execute_result"
    }
   ],
   "source": [
    "# Reference multiple columns within a DataFrame\n",
    "yearly2_df[[\"Postcode\", \"numberSaleListing\",\"numberSold\"]].head()"
   ]
  },
  {
   "cell_type": "code",
   "execution_count": 10,
   "metadata": {},
   "outputs": [
    {
     "data": {
      "text/html": [
       "<div>\n",
       "<style scoped>\n",
       "    .dataframe tbody tr th:only-of-type {\n",
       "        vertical-align: middle;\n",
       "    }\n",
       "\n",
       "    .dataframe tbody tr th {\n",
       "        vertical-align: top;\n",
       "    }\n",
       "\n",
       "    .dataframe thead th {\n",
       "        text-align: right;\n",
       "    }\n",
       "</style>\n",
       "<table border=\"1\" class=\"dataframe\">\n",
       "  <thead>\n",
       "    <tr style=\"text-align: right;\">\n",
       "      <th></th>\n",
       "      <th>Postcode</th>\n",
       "      <th>numberSaleListing</th>\n",
       "      <th>numberSold</th>\n",
       "    </tr>\n",
       "  </thead>\n",
       "  <tbody>\n",
       "    <tr>\n",
       "      <th>0</th>\n",
       "      <td>3067</td>\n",
       "      <td>89</td>\n",
       "      <td>75</td>\n",
       "    </tr>\n",
       "    <tr>\n",
       "      <th>1</th>\n",
       "      <td>3040</td>\n",
       "      <td>295</td>\n",
       "      <td>223</td>\n",
       "    </tr>\n",
       "    <tr>\n",
       "      <th>2</th>\n",
       "      <td>3042</td>\n",
       "      <td>115</td>\n",
       "      <td>99</td>\n",
       "    </tr>\n",
       "    <tr>\n",
       "      <th>3</th>\n",
       "      <td>3021</td>\n",
       "      <td>506</td>\n",
       "      <td>336</td>\n",
       "    </tr>\n",
       "    <tr>\n",
       "      <th>4</th>\n",
       "      <td>3206</td>\n",
       "      <td>65</td>\n",
       "      <td>49</td>\n",
       "    </tr>\n",
       "  </tbody>\n",
       "</table>\n",
       "</div>"
      ],
      "text/plain": [
       "   Postcode  numberSaleListing  numberSold\n",
       "0      3067                 89          75\n",
       "1      3040                295         223\n",
       "2      3042                115          99\n",
       "3      3021                506         336\n",
       "4      3206                 65          49"
      ]
     },
     "execution_count": 10,
     "metadata": {},
     "output_type": "execute_result"
    }
   ],
   "source": [
    "# Reference multiple columns within a DataFrame\n",
    "yearly3_df[[\"Postcode\", \"numberSaleListing\",\"numberSold\"]].head()"
   ]
  },
  {
   "cell_type": "code",
   "execution_count": 11,
   "metadata": {},
   "outputs": [
    {
     "data": {
      "text/plain": [
       "57854.0"
      ]
     },
     "execution_count": 11,
     "metadata": {},
     "output_type": "execute_result"
    }
   ],
   "source": [
    "# The sum method adds every entry in the series\n",
    "numberSaleListing_2019 = yearly_df[\"numberSaleListing\"].sum()\n",
    "numberSaleListing_2020 = yearly2_df[\"numberSaleListing\"].sum()\n",
    "numberSaleListing_2021 = yearly3_df[\"numberSaleListing\"].sum()\n",
    "numberSaleListing_2019"
   ]
  },
  {
   "cell_type": "code",
   "execution_count": 12,
   "metadata": {},
   "outputs": [
    {
     "data": {
      "text/plain": [
       "38465.0"
      ]
     },
     "execution_count": 12,
     "metadata": {},
     "output_type": "execute_result"
    }
   ],
   "source": [
    "numberSold_2019 = yearly_df[\"numberSold\"].sum()\n",
    "numberSold_2020 = yearly2_df[\"numberSold\"].sum()\n",
    "numberSold_2021 = yearly3_df[\"numberSold\"].sum()\n",
    "numberSold_2019"
   ]
  },
  {
   "cell_type": "code",
   "execution_count": 17,
   "metadata": {},
   "outputs": [],
   "source": [
    "# Set x axis and tick locations\n",
    "x_axis = [2019,2020,2021]\n",
    "y_axis =[numberSaleListing_2019,numberSaleListing_2020,numberSaleListing_2021]\n",
    "tick_locations = [year for year in x_axis]"
   ]
  },
  {
   "cell_type": "code",
   "execution_count": 22,
   "metadata": {},
   "outputs": [
    {
     "data": {
      "image/png": "[encoded data removed]",
      "text/plain": [
       "<Figure size 1440x432 with 1 Axes>"
      ]
     },
     "metadata": {
      "needs_background": "light"
     },
     "output_type": "display_data"
    }
   ],
   "source": [
    "plt.figure(figsize=(20,6))\n",
    "\n",
    "plt.bar(x_axis, y_axis, color='r', alpha=0.5, align=\"center\")\n",
    "\n",
    "# Set a Title and labels\n",
    "plt.title(\"listing vs sold \")\n",
    "plt.xlabel(\"numberSaleListing_Total\")\n",
    "plt.ylabel(\"numberSold_Total\")\n",
    "\n",
    "# Save our graph and show the grap\n",
    "plt.savefig(\"../Images/Total_properties_sold.png\")\n",
    "plt.show()"
   ]
  },
  {
   "cell_type": "code",
   "execution_count": 25,
   "metadata": {},
   "outputs": [
    {
     "data": {
      "image/png": "[encoded data removed]",
      "text/plain": [
       "<Figure size 432x288 with 1 Axes>"
      ]
     },
     "metadata": {
      "needs_background": "light"
     },
     "output_type": "display_data"
    }
   ],
   "source": [
    "numberSold = [numberSold_2019,numberSold_2020,numberSold_2021]\n",
    "x_axis = [2019,2020,2021]\n",
    "y_axis =[numberSaleListing_2019,numberSaleListing_2020,numberSaleListing_2021]\n",
    "df = pd.DataFrame({'numberSold': numberSold,\n",
    "                   'numberSaleListing': y_axis}, index=x_axis)\n",
    "ax = df.plot.bar(rot=0)\n",
    "plt.title(\"listing vs sold\")\n",
    "plt.xlabel(\"numberSaleListing_Total\")\n",
    "plt.ylabel(\"numberSold_Total\")\n",
    "plt.savefig('listing_vs_sold.png')"
   ]
  },
  {
   "cell_type": "code",
   "execution_count": null,
   "metadata": {},
   "outputs": [],
   "source": []
  }
 ],
 "metadata": {
  "hide_input": false,
  "kernel_info": {
   "name": "python3"
  },
  "kernelspec": {
   "display_name": "Python 3",
   "language": "python",
   "name": "python3"
  },
  "language_info": {
   "codemirror_mode": {
    "name": "ipython",
    "version": 3
   },
   "file_extension": ".py",
   "mimetype": "text/x-python",
   "name": "python",
   "nbconvert_exporter": "python",
   "pygments_lexer": "ipython3",
   "version": "3.8.5"
  },
  "nteract": {
   "version": "0.2.0"
  },
  "toc": {
   "base_numbering": 1,
   "nav_menu": {},
   "number_sections": false,
   "sideBar": true,
   "skip_h1_title": false,
   "title_cell": "Table of Contents",
   "title_sidebar": "Contents",
   "toc_cell": false,
   "toc_position": {},
   "toc_section_display": true,
   "toc_window_display": false
  }
 },
 "nbformat": 4,
 "nbformat_minor": 2
}
